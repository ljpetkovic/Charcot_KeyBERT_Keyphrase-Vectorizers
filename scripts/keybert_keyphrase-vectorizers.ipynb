{
 "cells": [
  {
   "cell_type": "markdown",
   "id": "2f8575ea",
   "metadata": {},
   "source": [
    "## `keybert`\n",
    "* librairie Python pour extraire des mots-clés les plus similaires à un document en exploitant les plongements BERT<br>\n",
    "⚠️ on doit spécifier la longueur des n-grammes à extraire, alors que l'on ne sait pas quelle est la longueur optimale<br>\n",
    "⚠️ la grammaticalité des phrases n'est pas prise en compte\n",
    "\n",
    "([Schopf, 2022](https://towardsdatascience.com/enhancing-keybert-keyword-extraction-results-with-keyphrasevectorizers-3796fa93f4db))"
   ]
  },
  {
   "cell_type": "code",
   "execution_count": null,
   "id": "b319bce6",
   "metadata": {},
   "outputs": [
    {
     "name": "stderr",
     "output_type": "stream",
     "text": [
      "/home/ljudmila/anaconda3/lib/python3.9/site-packages/transformers/utils/generic.py:441: UserWarning: torch.utils._pytree._register_pytree_node is deprecated. Please use torch.utils._pytree.register_pytree_node instead.\n",
      "  _torch_pytree._register_pytree_node(\n",
      "2024-03-11 13:31:58.315034: I external/local_tsl/tsl/cuda/cudart_stub.cc:31] Could not find cuda drivers on your machine, GPU will not be used.\n",
      "2024-03-11 13:32:00.357430: E external/local_xla/xla/stream_executor/cuda/cuda_dnn.cc:9261] Unable to register cuDNN factory: Attempting to register factory for plugin cuDNN when one has already been registered\n",
      "2024-03-11 13:32:00.357491: E external/local_xla/xla/stream_executor/cuda/cuda_fft.cc:607] Unable to register cuFFT factory: Attempting to register factory for plugin cuFFT when one has already been registered\n",
      "2024-03-11 13:32:00.706706: E external/local_xla/xla/stream_executor/cuda/cuda_blas.cc:1515] Unable to register cuBLAS factory: Attempting to register factory for plugin cuBLAS when one has already been registered\n",
      "2024-03-11 13:32:01.785018: I external/local_tsl/tsl/cuda/cudart_stub.cc:31] Could not find cuda drivers on your machine, GPU will not be used.\n",
      "2024-03-11 13:32:01.786337: I tensorflow/core/platform/cpu_feature_guard.cc:182] This TensorFlow binary is optimized to use available CPU instructions in performance-critical operations.\n",
      "To enable the following instructions: AVX2 FMA, in other operations, rebuild TensorFlow with the appropriate compiler flags.\n",
      "2024-03-11 13:32:11.019348: W tensorflow/compiler/tf2tensorrt/utils/py_utils.cc:38] TF-TRT Warning: Could not find TensorRT\n",
      "/home/ljudmila/anaconda3/lib/python3.9/site-packages/transformers/utils/generic.py:309: UserWarning: torch.utils._pytree._register_pytree_node is deprecated. Please use torch.utils._pytree.register_pytree_node instead.\n",
      "  _torch_pytree._register_pytree_node(\n"
     ]
    }
   ],
   "source": [
    "# !pip install 'keybert[all]'\n",
    "\n",
    "import torch # print(torch.__version__)\n",
    "import os\n",
    "from sentence_transformers import SentenceTransformer\n",
    "from keybert import KeyBERT\n",
    "sentence_model = SentenceTransformer(\"distiluse-base-multilingual-cased-v1\")\n",
    "kw_model = KeyBERT(model=sentence_model)\n",
    "\n",
    "# Definir les chemins vers les fichiers d'entrée et de sortie\n",
    "path = './'\n",
    "file_name = 'autres_keybert_mmr.txt'\n",
    "file_path = 'corpus_autres.txt'\n",
    "\n",
    "# Extraction des mots-clés\n",
    "with open(os.path.join(path, file_path), 'r') as myfile, open(os.path.join(path, file_name), 'w') as outfile:\n",
    "    raw_data = myfile.readlines()\n",
    "    start = 0\n",
    "    end = 300 # diminuer le nb de lignes à traiter si la mémoire RAM est épuisée (p. ex. 10 000)\n",
    "    while len(raw_data) >= end:\n",
    "        data = \" \".join(raw_data[start:end])\n",
    "        start = end\n",
    "        end += 300\n",
    "        keywords = kw_model.extract_keywords(data, keyphrase_ngram_range=(1, 3), stop_words=None, use_mmr=True, diversity=0.7)\n",
    "        for k in keywords:\n",
    "            # print(k) # si mémoire épuisée, commenter cette ligne pour voir\n",
    "                     # si ça permet au moins d'écrire le contenu dans le fichier\n",
    "            # Writing each keyword to the output file\n",
    "            outfile.write(str(k) + '\\n')"
   ]
  },
  {
   "cell_type": "code",
   "execution_count": null,
   "id": "08d5a839-d63a-43cb-9754-7fa682775c58",
   "metadata": {},
   "outputs": [],
   "source": []
  },
  {
   "cell_type": "code",
   "execution_count": null,
   "id": "3a9d6e56-8308-4510-b154-e2d81f4d2af3",
   "metadata": {},
   "outputs": [],
   "source": []
  }
 ],
 "metadata": {
  "kernelspec": {
   "display_name": "Python 3 (ipykernel)",
   "language": "python",
   "name": "python3"
  },
  "language_info": {
   "codemirror_mode": {
    "name": "ipython",
    "version": 3
   },
   "file_extension": ".py",
   "mimetype": "text/x-python",
   "name": "python",
   "nbconvert_exporter": "python",
   "pygments_lexer": "ipython3",
   "version": "3.9.12"
  }
 },
 "nbformat": 4,
 "nbformat_minor": 5
}
