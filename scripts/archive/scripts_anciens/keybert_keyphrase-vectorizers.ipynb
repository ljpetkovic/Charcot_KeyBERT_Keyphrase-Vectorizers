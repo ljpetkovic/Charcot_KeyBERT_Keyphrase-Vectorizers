{
 "cells": [
  {
   "cell_type": "markdown",
   "id": "2f8575ea",
   "metadata": {},
   "source": [
    "## `keybert`\n",
    "* librairie Python pour extraire des mots-clés les plus similaires à un document en exploitant les plongements BERT<br>\n",
    "⚠️ on doit spécifier la longueur des n-grammes à extraire, alors que l'on ne sait pas quelle est la longueur optimale<br>\n",
    "⚠️ la grammaticalité des phrases n'est pas prise en compte\n",
    "\n",
    "([Schopf, 2022](https://towardsdatascience.com/enhancing-keybert-keyword-extraction-results-with-keyphrasevectorizers-3796fa93f4db))"
   ]
  },
  {
   "cell_type": "code",
   "execution_count": null,
   "id": "b319bce6",
   "metadata": {},
   "outputs": [
    {
     "name": "stderr",
     "output_type": "stream",
     "text": [
      "/home/ljudmila/anaconda3/lib/python3.9/site-packages/transformers/utils/generic.py:441: UserWarning: torch.utils._pytree._register_pytree_node is deprecated. Please use torch.utils._pytree.register_pytree_node instead.\n",
      "  _torch_pytree._register_pytree_node(\n",
      "2024-03-11 13:31:58.315034: I external/local_tsl/tsl/cuda/cudart_stub.cc:31] Could not find cuda drivers on your machine, GPU will not be used.\n",
      "2024-03-11 13:32:00.357430: E external/local_xla/xla/stream_executor/cuda/cuda_dnn.cc:9261] Unable to register cuDNN factory: Attempting to register factory for plugin cuDNN when one has already been registered\n",
      "2024-03-11 13:32:00.357491: E external/local_xla/xla/stream_executor/cuda/cuda_fft.cc:607] Unable to register cuFFT factory: Attempting to register factory for plugin cuFFT when one has already been registered\n",
      "2024-03-11 13:32:00.706706: E external/local_xla/xla/stream_executor/cuda/cuda_blas.cc:1515] Unable to register cuBLAS factory: Attempting to register factory for plugin cuBLAS when one has already been registered\n",
      "2024-03-11 13:32:01.785018: I external/local_tsl/tsl/cuda/cudart_stub.cc:31] Could not find cuda drivers on your machine, GPU will not be used.\n",
      "2024-03-11 13:32:01.786337: I tensorflow/core/platform/cpu_feature_guard.cc:182] This TensorFlow binary is optimized to use available CPU instructions in performance-critical operations.\n",
      "To enable the following instructions: AVX2 FMA, in other operations, rebuild TensorFlow with the appropriate compiler flags.\n",
      "2024-03-11 13:32:11.019348: W tensorflow/compiler/tf2tensorrt/utils/py_utils.cc:38] TF-TRT Warning: Could not find TensorRT\n",
      "/home/ljudmila/anaconda3/lib/python3.9/site-packages/transformers/utils/generic.py:309: UserWarning: torch.utils._pytree._register_pytree_node is deprecated. Please use torch.utils._pytree.register_pytree_node instead.\n",
      "  _torch_pytree._register_pytree_node(\n"
     ]
    }
   ],
   "source": [
    "# !pip install 'keybert[all]'\n",
    "\n",
    "import torch # print(torch.__version__)\n",
    "import os\n",
    "from sentence_transformers import SentenceTransformer\n",
    "from keybert import KeyBERT\n",
    "sentence_model = SentenceTransformer(\"distiluse-base-multilingual-cased-v1\")\n",
    "kw_model = KeyBERT(model=sentence_model)\n",
    "\n",
    "# Definir les chemins vers les fichiers d'entrée et de sortie\n",
    "path = './'\n",
    "file_name = 'autres_keybert_mmr.txt'\n",
    "file_path = 'corpus_autres.txt'\n",
    "\n",
    "# Extraction des mots-clés\n",
    "with open(os.path.join(path, file_path), 'r') as myfile, open(os.path.join(path, file_name), 'w') as outfile:\n",
    "    raw_data = myfile.readlines()\n",
    "    start = 0\n",
    "    end = 300 # diminuer le nb de lignes à traiter si la mémoire RAM est épuisée (p. ex. 10 000)\n",
    "    while len(raw_data) >= end:\n",
    "        data = \" \".join(raw_data[start:end])\n",
    "        start = end\n",
    "        end += 300\n",
    "        keywords = kw_model.extract_keywords(data, keyphrase_ngram_range=(1, 3), stop_words=None, use_mmr=True, diversity=0.7)\n",
    "        for k in keywords:\n",
    "            # print(k) # si mémoire épuisée, commenter cette ligne pour voir\n",
    "                     # si ça permet au moins d'écrire le contenu dans le fichier\n",
    "            # Writing each keyword to the output file\n",
    "            outfile.write(str(k) + '\\n')"
   ]
  },
  {
   "cell_type": "code",
   "execution_count": 7,
   "id": "08d5a839-d63a-43cb-9754-7fa682775c58",
   "metadata": {},
   "outputs": [
    {
     "name": "stdout",
     "output_type": "stream",
     "text": [
      "An error occurred: too many values to unpack (expected 2)\n"
     ]
    }
   ],
   "source": [
    "from keyphrase_vectorizers import KeyphraseCountVectorizer\n",
    "from keybert import KeyBERT\n",
    "\n",
    "# Initialize KeyBERT\n",
    "kw_model = KeyBERT()\n",
    "\n",
    "file_path = '../corpus/test.txt'  # Adjust to the path of your file\n",
    "output_file_path = '../output/keywords_output.txt'  # The path where you want to save the output\n",
    "\n",
    "try:\n",
    "    # Read your own file\n",
    "    with open(file_path, 'r') as file:\n",
    "        docs = [file.read()]  # Ensuring it is a list with a single document for this example\n",
    "\n",
    "    # Extract keywords for each document\n",
    "    keywords = kw_model.extract_keywords(docs=docs, vectorizer=KeyphraseCountVectorizer())\n",
    "\n",
    "    # Write the output to a .txt file\n",
    "    with open(output_file_path, 'w') as output_file:\n",
    "        for doc_keywords in keywords:\n",
    "            # Check structure and unpack accordingly\n",
    "            for keyword_score in doc_keywords:\n",
    "                keyword, score = keyword_score\n",
    "                output_file.write(f\"{keyword}: {score}\\n\")\n",
    "            output_file.write(\"\\n\")  # Separate keywords of different documents if necessary\n",
    "\n",
    "except Exception as e:\n",
    "    print(f\"An error occurred: {e}\")\n"
   ]
  },
  {
   "cell_type": "code",
   "execution_count": 1,
   "id": "3a9d6e56-8308-4510-b154-e2d81f4d2af3",
   "metadata": {},
   "outputs": [
    {
     "name": "stderr",
     "output_type": "stream",
     "text": [
      "/home/ljudmila/anaconda3/lib/python3.9/site-packages/transformers/utils/generic.py:441: UserWarning: torch.utils._pytree._register_pytree_node is deprecated. Please use torch.utils._pytree.register_pytree_node instead.\n",
      "  _torch_pytree._register_pytree_node(\n",
      "2024-04-02 10:31:39.946865: I external/local_tsl/tsl/cuda/cudart_stub.cc:31] Could not find cuda drivers on your machine, GPU will not be used.\n",
      "2024-04-02 10:31:39.997156: E external/local_xla/xla/stream_executor/cuda/cuda_dnn.cc:9261] Unable to register cuDNN factory: Attempting to register factory for plugin cuDNN when one has already been registered\n",
      "2024-04-02 10:31:39.997189: E external/local_xla/xla/stream_executor/cuda/cuda_fft.cc:607] Unable to register cuFFT factory: Attempting to register factory for plugin cuFFT when one has already been registered\n",
      "2024-04-02 10:31:39.998741: E external/local_xla/xla/stream_executor/cuda/cuda_blas.cc:1515] Unable to register cuBLAS factory: Attempting to register factory for plugin cuBLAS when one has already been registered\n",
      "2024-04-02 10:31:40.006308: I external/local_tsl/tsl/cuda/cudart_stub.cc:31] Could not find cuda drivers on your machine, GPU will not be used.\n",
      "2024-04-02 10:31:40.006713: I tensorflow/core/platform/cpu_feature_guard.cc:182] This TensorFlow binary is optimized to use available CPU instructions in performance-critical operations.\n",
      "To enable the following instructions: AVX2 FMA, in other operations, rebuild TensorFlow with the appropriate compiler flags.\n",
      "2024-04-02 10:31:40.980076: W tensorflow/compiler/tf2tensorrt/utils/py_utils.cc:38] TF-TRT Warning: Could not find TensorRT\n",
      "/home/ljudmila/anaconda3/lib/python3.9/site-packages/transformers/utils/generic.py:309: UserWarning: torch.utils._pytree._register_pytree_node is deprecated. Please use torch.utils._pytree.register_pytree_node instead.\n",
      "  _torch_pytree._register_pytree_node(\n"
     ]
    },
    {
     "data": {
      "text/plain": [
       "[('tions cutanées diverses', 0.8186),\n",
       " ('troubles trophiques consécutifs', 0.6976)]"
      ]
     },
     "execution_count": 1,
     "metadata": {},
     "output_type": "execute_result"
    }
   ],
   "source": [
    "from keyphrase_vectorizers import KeyphraseCountVectorizer\n",
    "from keybert import KeyBERT\n",
    "from flair.embeddings import TransformerDocumentEmbeddings\n",
    "\n",
    "docs = [\"\"\"Troubles trophiques consécutifs aux lésions des nerfs.\n",
    "Sommaire. — Remarques préliminaires. — Objet des conférences de cette année : \n",
    "elles seront consacrées à celles des maladies du système nerveux et, en particulier, \n",
    "de la moelle épinière, que l'on observe le plus habituelle-ment à la Salpêtrière.\n",
    "— Troubles de nutrition consécutifs aux lésions de l'axe cérébro-spinal et des nerfs. \n",
    "— Ces altérations peuvenl occuper la peau, le tissu cellulaire, les muscles, les articulations, les viscères.\n",
    "Importance de ces altérations au point de vue du diagnostic et du pronostic. \n",
    "— Troubles de nu-trition consécutifs aux lésions des nerfs périphériques. \n",
    "— Le système ner-veux, à l'état normal, a peu d'influence sur l'accomplissement des actes nu-tritifs. \n",
    "— Les lésions passives des nerfs ou de la moelle ne produisent pas directement de troubles \n",
    "trophiques dans les parties périphériques : expé-riences qui le démontrent. — \n",
    "Influence de l'irritation et de l'inflammation des nerfs ou des centres nerveux sur la \n",
    "production des troubles trophiques. — Les troubles trophiques consécutifs aux lésions \n",
    "traumatiques des nerfs, considérés en particulier. — Ils résultent non des sections \n",
    "complètes, mais des sections incomplètes, des contusions, etc., des troncs nerveux. \n",
    "— Érup-tions cutanées diverses : Érythcme, zona traumalique, pemphigus. — Glossy Skin \n",
    "des auteurs anglais. — Lésions musculaires : atrophie. — Lésions ar-ticulaires ; \n",
    "lésions osseuses : périostite, nécrose. —Troubles trophiques con-sécutifs aux lésions \n",
    "non traumatiques. — Troubles trophiques de l'œil, dans les cas de tumeur comprimant le \n",
    "trijumeau. — Inflammation des nerfs spi-naux, consécutive au cancer vertébral, à la \n",
    "pachyméningite spinale, à l'as-phyxie par la vapeur de charbon, etc. Eruptions cutanées \n",
    "diverses (zona, pemphigus, etc.), atrophie musculaire, arthropathies, qui, en pareil cas, \n",
    "se développent en conséquence de la névrite. —Lèpre anesthésique : périné-vrite lépreuse, \n",
    "lepra mutilans.\n",
    "               \"\"\"]\n",
    "\n",
    "# Init German KeyBERT model\n",
    "kw_model = KeyBERT(model=TransformerDocumentEmbeddings('google-bert/bert-base-multilingual-cased'))\n",
    "\n",
    "# Init vectorizer for the German language\n",
    "vectorizer = KeyphraseCountVectorizer(spacy_pipeline='fr_core_news_lg', pos_pattern='<N.*><ADJ.*><ADJ.*>+', stop_words='french')\n",
    "\n",
    "# Get German keyphrases\n",
    "kw_model.extract_keywords(docs=docs, vectorizer=vectorizer)"
   ]
  }
 ],
 "metadata": {
  "kernelspec": {
   "display_name": "Python 3 (ipykernel)",
   "language": "python",
   "name": "python3"
  },
  "language_info": {
   "codemirror_mode": {
    "name": "ipython",
    "version": 3
   },
   "file_extension": ".py",
   "mimetype": "text/x-python",
   "name": "python",
   "nbconvert_exporter": "python",
   "pygments_lexer": "ipython3",
   "version": "3.9.12"
  }
 },
 "nbformat": 4,
 "nbformat_minor": 5
}
